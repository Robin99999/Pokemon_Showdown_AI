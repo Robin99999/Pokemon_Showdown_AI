{
 "cells": [
  {
   "cell_type": "markdown",
   "metadata": {},
   "source": [
    "# Requirements to Run\n",
    "\n",
    "The main thing to run is `sim_battle.py`.\n",
    "\n",
    "## Libraries\n",
    "\n",
    "So far we have used the open source Pokémon Showdown code and the poke-env library.\n",
    "\n",
    "https://github.com/hsahovic/poke-env/tree/51a025929f6c0164ce3e263af0cab286f79b2f5c\n",
    "\n",
    "https://github.com/smogon/pokemon-showdown\n",
    "\n",
    "https://github.com/Robin99999/Pokemon_Showdown_AI\n",
    "\n",
    " The poke-env library is needed because the Pokémon Showdown server is written in JavaScript, and the poke-env library allows us to simulate Pokémon Showdown while in Python.\n",
    "\n",
    "## Future Libraries\n",
    "\n",
    "Down the line, as we work on the project, we will likely be adding a lot of machine learning libraries like Keras, PyTorch, Scipy, etc. because we are planning to make a utility function by using machine learning. \n",
    "\n",
    "The reason we are doing this is because the game inherently has too many game states to consider, and there is not a great simple utility function that works for this game. \n",
    "\n",
    "Also, by using machine learning, we are likely to create a stronger model that can predict moves and what types of players (depending on rating) will make what type of moves.\n",
    "\n",
    "## Results\n",
    "\n",
    "For the intermediate results, we have worked on a max_damage_agent (though a better name right now would be a smart_damage_agent). \n",
    "\n",
    "We started with this agent to get familiar with the poke-env library and have an agent that our final agent can compare to. \n",
    "\n",
    "This max_damage_agent wins 95% of the time against the random agent and 75% of the time against the max_base-power_player, random agent and max_base-power_player are both agents that came in the poke-env library. \n",
    "\n",
    "We are likely going to continue to improve on the max_damage_agent as it struggles with some edge cases and doesn't always make the most informed decision, but we thought this was a good starting point. \n",
    "\n",
    "There is a bug that crashes the agent, and we are working on figuring out what the bug is, but for the majority of runs, the bug doesn't happen. \n",
    "\n",
    "It's likely due to some set of moves or conditions that our agent can't handle, but we can fix it \n",
    "\n",
    "## Next Steps\n",
    "\n",
    "Create utility function, we are planning to use machine learning to do this but if we end up struggling too much we might make a manual utility function, \n",
    "\n",
    "Create agent using utility function, likely alpha beta prunning, will need to look more into models in general and see what agents we could use.\n",
    "\n",
    "Look into reinforcement learning agents\n",
    "\n",
    "Compare how agents perform and take them to the online pokemon showdown ladder\n"
   ]
  },
  {
   "cell_type": "markdown",
   "metadata": {},
   "source": []
  }
 ],
 "metadata": {
  "language_info": {
   "name": "python"
  }
 },
 "nbformat": 4,
 "nbformat_minor": 2
}
