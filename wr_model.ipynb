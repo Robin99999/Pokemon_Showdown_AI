{
 "cells": [
  {
   "cell_type": "markdown",
   "metadata": {},
   "source": [
    "Load data"
   ]
  },
  {
   "cell_type": "code",
   "execution_count": 6,
   "metadata": {},
   "outputs": [
    {
     "name": "stdout",
     "output_type": "stream",
     "text": [
      "Loaded 12480 game states.\n"
     ]
    }
   ],
   "source": [
    "import json\n",
    "\n",
    "\n",
    "file_path = '12-11-game-states.json'\n",
    "\n",
    "game_states = []\n",
    "\n",
    "with open(file_path, 'r') as file:\n",
    "    for line in file:\n",
    "        game_states.append(json.loads(line.strip()))\n",
    "\n",
    "print(f\"Loaded {len(game_states)} game states.\")"
   ]
  },
  {
   "cell_type": "code",
   "execution_count": null,
   "metadata": {},
   "outputs": [],
   "source": [
    "def extract_pokemon_data(pokemon_data):\n",
    "    return {\n",
    "        \"name\": pokemon_data[\"mon\"],\n",
    "        \"hp_percent\": pokemon_data[\"hp_percent\"],\n",
    "        \"status\": pokemon_data[\"status\"],\n",
    "        \"terratype\": pokemon_data[\"terratype\"]\n",
    "    }\n",
    "#fucntion to extract data from the game state\n",
    "def process_game_state(game_state):\n",
    "    player = game_state[\"player\"]\n",
    "    opponent = game_state[\"opponent\"]\n",
    "    \n",
    "\n",
    "    active_player_pokemon = extract_pokemon_data(player[\"active_pokemon\"])\n",
    "    active_opponent_pokemon = extract_pokemon_data(opponent[\"active_pokemon\"])\n",
    "    \n",
    "\n",
    "    player_seen = [extract_pokemon_data(pokemon) for pokemon in player[\"seen_pokemon\"].values()]\n",
    "    opponent_seen = [extract_pokemon_data(pokemon) for pokemon in opponent[\"seen_pokemon\"].values()]\n",
    "\n",
    "    player_effects = player[\"player_side_effects\"]\n",
    "    opponent_effects = opponent[\"opponent_side_effects\"]\n",
    "    player_boosts = player[\"boosts\"]\n",
    "    opponent_boosts = opponent[\"boosts\"]\n",
    "    \n",
    "    \n",
    "\n",
    "    battle_state = game_state[\"battle_state\"]\n",
    "    \n",
    "\n",
    "    est_winrate = game_state[\"est_winrate\"]\n",
    "    \n",
    "    return {\n",
    "        \"active_player_pokemon\": active_player_pokemon,\n",
    "        \"active_opponent_pokemon\": active_opponent_pokemon,\n",
    "        \"player_seen\": player_seen,\n",
    "        \"opponent_seen\": opponent_seen,\n",
    "        \"player_effects\": player_effects,\n",
    "        \"opponent_effects\": opponent_effects,\n",
    "        \"player_boosts\": player_boosts,\n",
    "        \"opponent_boosts\": opponent_boosts,\n",
    "        \"battle_state\": battle_state,\n",
    "        \"est_winrate\": est_winrate\n",
    "    }"
   ]
  },
  {
   "cell_type": "code",
   "execution_count": null,
   "metadata": {},
   "outputs": [],
   "source": [
    "processed_data = [process_game_state(gs) for gs in game_states]\n",
    "import numpy as np\n",
    "import pandas as pd\n",
    "\n",
    "df = pd.DataFrame(processed_data)\n",
    "df.to_csv('processed_game_states.csv', index=False)"
   ]
  },
  {
   "cell_type": "markdown",
   "metadata": {},
   "source": []
  },
  {
   "cell_type": "markdown",
   "metadata": {},
   "source": [
    "Embedding the pokemon names along side their data"
   ]
  },
  {
   "cell_type": "code",
   "execution_count": null,
   "metadata": {},
   "outputs": [],
   "source": [
    "import tensorflow as tf\n",
    "from tensorflow.keras import layers, Model, Input\n",
    "\n",
    "#+2 for dead and dontknow\n",
    "name_vocab_size = 509  # Update based on unique Pokémon names I think there are 507\n",
    "\n",
    "embedding_dim = 32      # Tune based on dataset size\n",
    "\n",
    "\n",
    "def create_pokemon_input(mon_num):\n",
    "    name_input = Input(shape=(1,), name=f\"{mon_num}_name\")  \n",
    "    hp_input = Input(shape=(1,), name=f\"{mon_num}_hp\")  #\n",
    "    status_input = Input(shape=(6,), name=f\"{mon_num}_status\")  \n",
    "    terra_input = Input(shape=(18,), name=f\"{mon_num}_terra\")  \n",
    "\n",
    "    name_embedding = layers.Embedding(name_vocab_size, embedding_dim, name=f\"{mon_num}_name_embedding\")(name_input)\n",
    "    name_embedding = layers.Flatten()(name_embedding)\n",
    "\n",
    "\n",
    "    combined = layers.Concatenate()([name_embedding, hp_input, status_input, terra_input])\n",
    "    return name_input, hp_input, status_input, terra_input, combined\n",
    "\n",
    "player_inputs = []\n",
    "opponent_inputs = []\n",
    "player_combined = []\n",
    "opponent_combined = []\n",
    "\n",
    "for i in range(6):  \n",
    "    pname, php, pstatus, pterra, pcomb = create_pokemon_input(f\"player_poke{i+1}\")\n",
    "    oname, ohp, ostatus, oterra, ocomb = create_pokemon_input(f\"opponent_poke{i+1}\")\n",
    "\n",
    "    player_inputs.extend([pname, php, pstatus, pterra])\n",
    "    opponent_inputs.extend([oname, ohp, ostatus, oterra])\n",
    "    player_combined.append(pcomb)\n",
    "    opponent_combined.append(ocomb)\n",
    "\n",
    "\n"
   ]
  },
  {
   "cell_type": "markdown",
   "metadata": {},
   "source": [
    "model rough draft idea"
   ]
  },
  {
   "cell_type": "code",
   "execution_count": null,
   "metadata": {},
   "outputs": [],
   "source": [
    "# create a function to get each one and concatenate\n",
    "combined_features = layers.Concatenate()([player_features, opponent_features, side_effects, boosts, battle_state]) \n",
    "\n",
    "\n",
    "x = layers.Dense(128, activation=\"relu\")(combined_features)\n",
    "x = layers.Dropout(0.3)(x)\n",
    "x = layers.Dense(64, activation=\"relu\")(x)\n",
    "x = layers.Dropout(0.3)(x)\n",
    "\n",
    "output = layers.Dense(1, activation=\"sigmoid\", name=\"win_rate\")(x)\n",
    "\n",
    "model = Model(inputs=player_inputs + opponent_inputs + [side_effects, boosts, battle_state], outputs=output)\n",
    "\n",
    "\n",
    "model.compile(optimizer=\"adam\", loss=\"binary_crossentropy\", metrics=[\"accuracy\"])\n",
    "model.summary()"
   ]
  },
  {
   "cell_type": "code",
   "execution_count": 16,
   "metadata": {},
   "outputs": [],
   "source": [
    "y = df['est_winrate']\n",
    "\n",
    "X = df.drop(columns=['est_winrate']) \n",
    "\n",
    "from sklearn.model_selection import train_test_split\n",
    "\n",
    "# Split data into train and test sets\n",
    "X_train, X_test, y_train, y_test = train_test_split(X, y, test_size=0.2, random_state=42)"
   ]
  },
  {
   "cell_type": "code",
   "execution_count": null,
   "metadata": {},
   "outputs": [],
   "source": []
  }
 ],
 "metadata": {
  "kernelspec": {
   "display_name": "showdownAI",
   "language": "python",
   "name": "python3"
  },
  "language_info": {
   "codemirror_mode": {
    "name": "ipython",
    "version": 3
   },
   "file_extension": ".py",
   "mimetype": "text/x-python",
   "name": "python",
   "nbconvert_exporter": "python",
   "pygments_lexer": "ipython3",
   "version": "3.10.15"
  }
 },
 "nbformat": 4,
 "nbformat_minor": 2
}
