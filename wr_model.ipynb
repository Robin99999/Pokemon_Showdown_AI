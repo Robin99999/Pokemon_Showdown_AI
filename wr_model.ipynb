{
 "cells": [
  {
   "cell_type": "markdown",
   "metadata": {},
   "source": [
    "Load data"
   ]
  },
  {
   "cell_type": "code",
   "execution_count": 4,
   "metadata": {},
   "outputs": [
    {
     "name": "stdout",
     "output_type": "stream",
     "text": [
      "Loaded 12659 game states.\n"
     ]
    }
   ],
   "source": [
    "import json\n",
    "\n",
    "\n",
    "file_path = '12-11-game-states.json'\n",
    "\n",
    "game_states = []\n",
    "with open(file_path, 'r') as file:\n",
    "    for line in file:\n",
    "        game_states.append(json.loads(line.strip()))\n",
    "\n",
    "print(f\"Loaded {len(game_states)} game states.\")"
   ]
  },
  {
   "cell_type": "code",
   "execution_count": 5,
   "metadata": {},
   "outputs": [
    {
     "name": "stdout",
     "output_type": "stream",
     "text": [
      "{'turn': '1', 'player': {'active_pokemon': {'mon': 'Mesprit', 'hp_percent': 0.68364, 'status': [1, 0, 0, 0, 0, 0], 'terratype': [0, 0, 0, 0, 0, 0, 0, 0, 0, 0, 0, 0, 0, 0, 0, 0, 0, 0]}, 'boosts': {'atk': 0, 'def': 0, 'spa': 0, 'spd': 0, 'spe': 0, 'evasion': 0, 'accuracy': 0}, 'player_side_effects': {'Stealth': 0, 'Spikes': 0, 'Toxic': 0, 'Sticky': 0, 'Reflect': 0, 'reflect_turns': 0, 'tailwind': 0, 'tailwind_turns': 0}, 'last_move': None, 'next_move': 'Thunder Wave', 'num_mons_left': 6, 'seen_pokemon': {'poke1': {'mon': 'Ludicolo', 'hp_percent': 1.0, 'status': [1, 0, 0, 0, 0, 0], 'terratype': [0, 0, 0, 0, 0, 0, 0, 0, 0, 0, 0, 0, 0, 0, 0, 0, 0, 0]}, 'poke2': {'mon': 'Dondozo', 'hp_percent': 1.0, 'status': [1, 0, 0, 0, 0, 0], 'terratype': [0, 0, 0, 0, 0, 0, 0, 0, 0, 0, 0, 0, 0, 0, 0, 0, 0, 0]}, 'poke3': {'mon': 'Mesprit', 'hp_percent': 1.0, 'status': [1, 0, 0, 0, 0, 0], 'terratype': [0, 0, 0, 0, 0, 0, 0, 0, 0, 0, 0, 0, 0, 0, 0, 0, 0, 0]}, 'poke4': {'mon': 'Pikachu-Unova', 'hp_percent': 1.0, 'status': [1, 0, 0, 0, 0, 0], 'terratype': [0, 0, 0, 0, 0, 0, 0, 0, 0, 0, 0, 0, 0, 0, 0, 0, 0, 0]}, 'poke5': {'mon': 'Mudsdale', 'hp_percent': 1.0, 'status': [1, 0, 0, 0, 0, 0], 'terratype': [0, 0, 0, 0, 0, 0, 0, 0, 0, 0, 0, 0, 0, 0, 0, 0, 0, 0]}, 'poke6': {'mon': 'Copperajah', 'hp_percent': 1.0, 'status': [1, 0, 0, 0, 0, 0], 'terratype': [0, 0, 0, 0, 0, 0, 0, 0, 0, 0, 0, 0, 0, 0, 0, 0, 0, 0]}}, 'terra_used': 0}, 'opponent': {'active_pokemon': {'mon': 'Sawsbuck-Summer', 'hp_percent': 0.74545, 'status': [1, 0, 0, 0, 0, 0], 'terratype': None}, 'boosts': {'atk': 0, 'def': 0, 'spa': 0, 'spd': 0, 'spe': 0, 'evasion': 0, 'accuracy': 0}, 'opponent_side_effects': {'stealth_rock': 0, 'spikes': 0, 'toxic_spikes': 0, 'sticky_web': 0, 'Reflect': 0, 'reflect_turns': 0, 'tailwind': 0, 'tailwind_turns': 0}, 'last_move': 'Headbutt', 'num_mons_left': 6, 'next_move': 'Headbutt', 'seen_pokemon': {'poke1': {'mon': 1.0, 'hp_percent': 1.0, 'status': [1, 0, 0, 0, 0, 0], 'terratype': None}, 'poke2': {'mon': 'dontknow', 'hp_percent': 1.0, 'status': [1, 0, 0, 0, 0, 0], 'terratype': [0, 0, 0, 0, 0, 0, 0, 0, 0, 0, 0, 0, 0, 0, 0, 0, 0, 0]}, 'poke3': {'mon': 'dontknow', 'hp_percent': 1.0, 'status': [1, 0, 0, 0, 0, 0], 'terratype': [0, 0, 0, 0, 0, 0, 0, 0, 0, 0, 0, 0, 0, 0, 0, 0, 0, 0]}, 'poke4': {'mon': 'dontknow', 'hp_percent': 1.0, 'status': [1, 0, 0, 0, 0, 0], 'terratype': [0, 0, 0, 0, 0, 0, 0, 0, 0, 0, 0, 0, 0, 0, 0, 0, 0, 0]}, 'poke5': {'mon': 'dontknow', 'hp_percent': 1.0, 'status': [1, 0, 0, 0, 0, 0], 'terratype': [0, 0, 0, 0, 0, 0, 0, 0, 0, 0, 0, 0, 0, 0, 0, 0, 0, 0]}, 'poke6': {'mon': 'dontknow', 'hp_percent': 1.0, 'status': [1, 0, 0, 0, 0, 0], 'terratype': [0, 0, 0, 0, 0, 0, 0, 0, 0, 0, 0, 0, 0, 0, 0, 0, 0, 0]}}, 'terra_used': 0, 'rating': 2273}, 'battle_state': {'weather': [1.0, 0.0, 0.0, 0.0, 0.0], 'weather_turns_left': 0, 'terrain': [1.0, 0.0, 0.0, 0.0, 0.0], 'terrain_turns_left': 0, 'trick_room': 0, 'trick_room_turns': 0}, 'est_winrate': 0.4954797970955334}\n"
     ]
    }
   ],
   "source": [
    "print(game_states[0])"
   ]
  },
  {
   "cell_type": "markdown",
   "metadata": {},
   "source": []
  },
  {
   "cell_type": "code",
   "execution_count": null,
   "metadata": {},
   "outputs": [],
   "source": []
  },
  {
   "cell_type": "code",
   "execution_count": null,
   "metadata": {},
   "outputs": [],
   "source": [
    "\n"
   ]
  }
 ],
 "metadata": {
  "kernelspec": {
   "display_name": "showdownAI",
   "language": "python",
   "name": "python3"
  },
  "language_info": {
   "codemirror_mode": {
    "name": "ipython",
    "version": 3
   },
   "file_extension": ".py",
   "mimetype": "text/x-python",
   "name": "python",
   "nbconvert_exporter": "python",
   "pygments_lexer": "ipython3",
   "version": "3.10.15"
  }
 },
 "nbformat": 4,
 "nbformat_minor": 2
}
