{
 "cells": [
  {
   "cell_type": "markdown",
   "metadata": {},
   "source": [
    "Load data"
   ]
  },
  {
   "cell_type": "code",
   "execution_count": 4,
   "metadata": {},
   "outputs": [
    {
     "name": "stdout",
     "output_type": "stream",
     "text": [
      "Loaded 12659 game states.\n"
     ]
    }
   ],
   "source": [
    "import json\n",
    "\n",
    "\n",
    "file_path = '12-11-game-states.json'\n",
    "\n",
    "game_states = []\n",
    "with open(file_path, 'r') as file:\n",
    "    for line in file:\n",
    "        game_states.append(json.loads(line.strip()))\n",
    "\n",
    "print(f\"Loaded {len(game_states)} game states.\")"
   ]
  },
  {
   "cell_type": "code",
   "execution_count": 5,
   "metadata": {},
   "outputs": [
    {
     "name": "stdout",
     "output_type": "stream",
     "text": [
      "{'turn': '1', 'player': {'active_pokemon': {'mon': 'Mesprit', 'hp_percent': 0.68364, 'status': [1, 0, 0, 0, 0, 0], 'terratype': [0, 0, 0, 0, 0, 0, 0, 0, 0, 0, 0, 0, 0, 0, 0, 0, 0, 0]}, 'boosts': {'atk': 0, 'def': 0, 'spa': 0, 'spd': 0, 'spe': 0, 'evasion': 0, 'accuracy': 0}, 'player_side_effects': {'Stealth': 0, 'Spikes': 0, 'Toxic': 0, 'Sticky': 0, 'Reflect': 0, 'reflect_turns': 0, 'tailwind': 0, 'tailwind_turns': 0}, 'last_move': None, 'next_move': 'Thunder Wave', 'num_mons_left': 6, 'seen_pokemon': {'poke1': {'mon': 'Ludicolo', 'hp_percent': 1.0, 'status': [1, 0, 0, 0, 0, 0], 'terratype': [0, 0, 0, 0, 0, 0, 0, 0, 0, 0, 0, 0, 0, 0, 0, 0, 0, 0]}, 'poke2': {'mon': 'Dondozo', 'hp_percent': 1.0, 'status': [1, 0, 0, 0, 0, 0], 'terratype': [0, 0, 0, 0, 0, 0, 0, 0, 0, 0, 0, 0, 0, 0, 0, 0, 0, 0]}, 'poke3': {'mon': 'Mesprit', 'hp_percent': 1.0, 'status': [1, 0, 0, 0, 0, 0], 'terratype': [0, 0, 0, 0, 0, 0, 0, 0, 0, 0, 0, 0, 0, 0, 0, 0, 0, 0]}, 'poke4': {'mon': 'Pikachu-Unova', 'hp_percent': 1.0, 'status': [1, 0, 0, 0, 0, 0], 'terratype': [0, 0, 0, 0, 0, 0, 0, 0, 0, 0, 0, 0, 0, 0, 0, 0, 0, 0]}, 'poke5': {'mon': 'Mudsdale', 'hp_percent': 1.0, 'status': [1, 0, 0, 0, 0, 0], 'terratype': [0, 0, 0, 0, 0, 0, 0, 0, 0, 0, 0, 0, 0, 0, 0, 0, 0, 0]}, 'poke6': {'mon': 'Copperajah', 'hp_percent': 1.0, 'status': [1, 0, 0, 0, 0, 0], 'terratype': [0, 0, 0, 0, 0, 0, 0, 0, 0, 0, 0, 0, 0, 0, 0, 0, 0, 0]}}, 'terra_used': 0}, 'opponent': {'active_pokemon': {'mon': 'Sawsbuck-Summer', 'hp_percent': 0.74545, 'status': [1, 0, 0, 0, 0, 0], 'terratype': None}, 'boosts': {'atk': 0, 'def': 0, 'spa': 0, 'spd': 0, 'spe': 0, 'evasion': 0, 'accuracy': 0}, 'opponent_side_effects': {'stealth_rock': 0, 'spikes': 0, 'toxic_spikes': 0, 'sticky_web': 0, 'Reflect': 0, 'reflect_turns': 0, 'tailwind': 0, 'tailwind_turns': 0}, 'last_move': 'Headbutt', 'num_mons_left': 6, 'next_move': 'Headbutt', 'seen_pokemon': {'poke1': {'mon': 1.0, 'hp_percent': 1.0, 'status': [1, 0, 0, 0, 0, 0], 'terratype': None}, 'poke2': {'mon': 'dontknow', 'hp_percent': 1.0, 'status': [1, 0, 0, 0, 0, 0], 'terratype': [0, 0, 0, 0, 0, 0, 0, 0, 0, 0, 0, 0, 0, 0, 0, 0, 0, 0]}, 'poke3': {'mon': 'dontknow', 'hp_percent': 1.0, 'status': [1, 0, 0, 0, 0, 0], 'terratype': [0, 0, 0, 0, 0, 0, 0, 0, 0, 0, 0, 0, 0, 0, 0, 0, 0, 0]}, 'poke4': {'mon': 'dontknow', 'hp_percent': 1.0, 'status': [1, 0, 0, 0, 0, 0], 'terratype': [0, 0, 0, 0, 0, 0, 0, 0, 0, 0, 0, 0, 0, 0, 0, 0, 0, 0]}, 'poke5': {'mon': 'dontknow', 'hp_percent': 1.0, 'status': [1, 0, 0, 0, 0, 0], 'terratype': [0, 0, 0, 0, 0, 0, 0, 0, 0, 0, 0, 0, 0, 0, 0, 0, 0, 0]}, 'poke6': {'mon': 'dontknow', 'hp_percent': 1.0, 'status': [1, 0, 0, 0, 0, 0], 'terratype': [0, 0, 0, 0, 0, 0, 0, 0, 0, 0, 0, 0, 0, 0, 0, 0, 0, 0]}}, 'terra_used': 0, 'rating': 2273}, 'battle_state': {'weather': [1.0, 0.0, 0.0, 0.0, 0.0], 'weather_turns_left': 0, 'terrain': [1.0, 0.0, 0.0, 0.0, 0.0], 'terrain_turns_left': 0, 'trick_room': 0, 'trick_room_turns': 0}, 'est_winrate': 0.4954797970955334}\n"
     ]
    }
   ],
   "source": [
    "print(game_states[0])"
   ]
  },
  {
   "cell_type": "markdown",
   "metadata": {},
   "source": []
  },
  {
   "cell_type": "code",
   "execution_count": null,
   "metadata": {},
   "outputs": [],
   "source": []
  },
  {
   "cell_type": "code",
   "execution_count": null,
   "metadata": {},
   "outputs": [],
   "source": [
    "import tensorflow as tf\n",
    "from tensorflow.keras import layers, Model, Input\n",
    "\n",
    "# Define embedding parameters\n",
    "name_vocab_size = 509  # Update based on unique Pokémon names\n",
    "embedding_dim = 32      # Tune based on dataset size\n",
    "\n",
    "# Input layers for player and opponent Pokémon\n",
    "def create_pokemon_input(prefix):\n",
    "    name_input = Input(shape=(1,), name=f\"{prefix}_name\")  # Pokémon name\n",
    "    hp_input = Input(shape=(1,), name=f\"{prefix}_hp\")  # HP percentage\n",
    "    status_input = Input(shape=(6,), name=f\"{prefix}_status\")  # Status one-hot\n",
    "    terra_input = Input(shape=(18,), name=f\"{prefix}_terra\")  # Terra type\n",
    "\n",
    "    # Embedding for Pokémon name\n",
    "    name_embedding = layers.Embedding(name_vocab_size, embedding_dim, name=f\"{prefix}_name_embedding\")(name_input)\n",
    "    name_embedding = layers.Flatten()(name_embedding)\n",
    "\n",
    "    # Concatenate all inputs\n",
    "    combined = layers.Concatenate()([name_embedding, hp_input, status_input, terra_input])\n",
    "    return name_input, hp_input, status_input, terra_input, combined\n",
    "\n",
    "# Create inputs for active Pokémon and seen Pokémon (both player and opponent)\n",
    "player_inputs = []\n",
    "opponent_inputs = []\n",
    "player_combined = []\n",
    "opponent_combined = []\n",
    "\n",
    "for i in range(6):  # Six Pokémon slots\n",
    "    pname, php, pstatus, pterra, pcomb = create_pokemon_input(f\"player_poke{i+1}\")\n",
    "    oname, ohp, ostatus, oterra, ocomb = create_pokemon_input(f\"opponent_poke{i+1}\")\n",
    "\n",
    "    player_inputs.extend([pname, php, pstatus, pterra])\n",
    "    opponent_inputs.extend([oname, ohp, ostatus, oterra])\n",
    "    player_combined.append(pcomb)\n",
    "    opponent_combined.append(ocomb)\n",
    "\n",
    "# Combine Pokémon data\n",
    "player_features = layers.Concatenate()(player_combined)\n",
    "opponent_features = layers.Concatenate()(opponent_combined)\n",
    "\n",
    "# Add side effects, boosts, and battle state features\n",
    "side_effects = Input(shape=(10,), name=\"side_effects\")\n",
    "boosts = Input(shape=(7,), name=\"boosts\")\n",
    "battle_state = Input(shape=(9,), name=\"battle_state\")\n",
    "\n",
    "# Combine all features\n",
    "combined_features = layers.Concatenate()([player_features, opponent_features, side_effects, boosts, battle_state])\n",
    "\n",
    "# Dense layers\n",
    "x = layers.Dense(128, activation=\"relu\")(combined_features)\n",
    "x = layers.Dropout(0.3)(x)\n",
    "x = layers.Dense(64, activation=\"relu\")(x)\n",
    "x = layers.Dropout(0.3)(x)\n",
    "\n",
    "# Output layer\n",
    "output = layers.Dense(1, activation=\"sigmoid\", name=\"win_rate\")(x)\n",
    "\n",
    "# Define the model\n",
    "model = Model(inputs=player_inputs + opponent_inputs + [side_effects, boosts, battle_state], outputs=output)\n",
    "\n",
    "# Compile the model\n",
    "model.compile(optimizer=\"adam\", loss=\"binary_crossentropy\", metrics=[\"accuracy\"])\n",
    "model.summary()\n"
   ]
  }
 ],
 "metadata": {
  "kernelspec": {
   "display_name": "showdownAI",
   "language": "python",
   "name": "python3"
  },
  "language_info": {
   "codemirror_mode": {
    "name": "ipython",
    "version": 3
   },
   "file_extension": ".py",
   "mimetype": "text/x-python",
   "name": "python",
   "nbconvert_exporter": "python",
   "pygments_lexer": "ipython3",
   "version": "3.10.15"
  }
 },
 "nbformat": 4,
 "nbformat_minor": 2
}
